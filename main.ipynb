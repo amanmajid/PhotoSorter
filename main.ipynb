{
 "cells": [
  {
   "cell_type": "code",
   "execution_count": 1,
   "metadata": {},
   "outputs": [],
   "source": [
    "from src.PhotoSorter import PhotoSorter\n",
    "import os\n",
    "\n",
    "#####################\n",
    "# MAIN\n",
    "\n",
    "# init\n",
    "media = PhotoSorter()"
   ]
  },
  {
   "cell_type": "code",
   "execution_count": null,
   "metadata": {},
   "outputs": [],
   "source": [
    "# divide media files by filetype\n",
    "outdir = os.path.join(os.getcwd(),'sorted')\n",
    "media.gather(copy=False,outdir=outdir,separate=False)\n",
    "\n",
    "# delete short videos\n",
    "path_to_files = os.path.join(os.getcwd(),'sorted','Collection')\n",
    "media.purge_live_photos(path=path_to_files)"
   ]
  },
  {
   "cell_type": "code",
   "execution_count": 2,
   "metadata": {},
   "outputs": [
    {
     "name": "stderr",
     "output_type": "stream",
     "text": [
      "Gathering metadata: 100%|██████████| 14586/14586 [00:34<00:00, 422.16it/s]\n",
      "Deleting files: 100%|██████████| 5558/5558 [00:10<00:00, 531.85it/s]"
     ]
    },
    {
     "name": "stdout",
     "output_type": "stream",
     "text": [
      "Deleted 5558 from a total of 14586 files\n"
     ]
    },
    {
     "name": "stderr",
     "output_type": "stream",
     "text": [
      "\n"
     ]
    }
   ],
   "source": [
    "# find possible duplicate photos\n",
    "path_to_photos='C:\\\\Users\\\\amanm\\\\Desktop\\\\test\\\\sorted\\\\Collection'\n",
    "media.drop_duplicates2(path=path_to_photos)"
   ]
  }
 ],
 "metadata": {
  "kernelspec": {
   "display_name": "Python 3",
   "language": "python",
   "name": "python3"
  },
  "language_info": {
   "codemirror_mode": {
    "name": "ipython",
    "version": 3
   },
   "file_extension": ".py",
   "mimetype": "text/x-python",
   "name": "python",
   "nbconvert_exporter": "python",
   "pygments_lexer": "ipython3",
   "version": "3.7.6"
  }
 },
 "nbformat": 4,
 "nbformat_minor": 4
}
