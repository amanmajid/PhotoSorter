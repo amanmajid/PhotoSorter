{
 "cells": [
  {
   "cell_type": "code",
   "execution_count": 1,
   "metadata": {},
   "outputs": [],
   "source": [
    "from src.PhotoSorter import PhotoSorter\n",
    "import os\n",
    "\n",
    "#####################\n",
    "# MAIN\n",
    "\n",
    "# init\n",
    "media = PhotoSorter()"
   ]
  },
  {
   "cell_type": "code",
   "execution_count": null,
   "metadata": {},
   "outputs": [],
   "source": [
    "# divide media files by filetype\n",
    "outdir = os.path.join(os.getcwd(),'sorted')\n",
    "media.gather(copy=False,outdir=outdir,separate=False)\n",
    "\n",
    "# delete short videos\n",
    "path_to_files = os.path.join(os.getcwd(),'sorted','Collection')\n",
    "media.purge_live_photos(path=path_to_files)"
   ]
  },
  {
   "cell_type": "code",
   "execution_count": null,
   "metadata": {},
   "outputs": [
    {
     "name": "stderr",
     "output_type": "stream",
     "text": [
      "Gathering metadata:  49%|████▉     | 8976/18315 [00:28<00:43, 216.52it/s]"
     ]
    }
   ],
   "source": [
    "# find possible duplicate photos\n",
    "path_to_photos='C:\\\\Users\\\\amanm\\\\Desktop\\\\test\\\\sorted\\\\Collection'\n",
    "media.drop_duplicates(path=path_to_photos)"
   ]
  },
  {
   "cell_type": "code",
   "execution_count": null,
   "metadata": {},
   "outputs": [],
   "source": []
  },
  {
   "cell_type": "code",
   "execution_count": null,
   "metadata": {},
   "outputs": [],
   "source": [
    "# find possible duplicate videos\n",
    "# path_to_photos='C:\\\\Users\\\\amanm\\\\Desktop\\\\test\\\\sorted\\\\separated\\\\Videos'\n",
    "# d = media.remove_duplicates(path=path_to_photos)"
   ]
  },
  {
   "cell_type": "code",
   "execution_count": null,
   "metadata": {},
   "outputs": [],
   "source": [
    "path_to_photos='C:\\\\Users\\\\amanm\\\\Desktop\\\\test\\\\sorted\\\\separated\\\\Photos'\n",
    "media.organise(path=path_to_photos)"
   ]
  },
  {
   "cell_type": "code",
   "execution_count": null,
   "metadata": {},
   "outputs": [],
   "source": [
    "from moviepy.editor import VideoFileClip\n",
    "path_to_file = os.path.join(os.getcwd(),'VID_1866.mov')\n",
    "clip = VideoFileClip(path_to_file)\n",
    "\n",
    "clip."
   ]
  },
  {
   "cell_type": "code",
   "execution_count": null,
   "metadata": {},
   "outputs": [],
   "source": []
  }
 ],
 "metadata": {
  "kernelspec": {
   "display_name": "Python 3",
   "language": "python",
   "name": "python3"
  },
  "language_info": {
   "codemirror_mode": {
    "name": "ipython",
    "version": 3
   },
   "file_extension": ".py",
   "mimetype": "text/x-python",
   "name": "python",
   "nbconvert_exporter": "python",
   "pygments_lexer": "ipython3",
   "version": "3.7.6"
  }
 },
 "nbformat": 4,
 "nbformat_minor": 4
}
