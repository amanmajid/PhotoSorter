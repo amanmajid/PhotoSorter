{
 "cells": [
  {
   "cell_type": "code",
   "execution_count": 1,
   "metadata": {},
   "outputs": [],
   "source": [
    "from src.PhotoSorter import PhotoSorter\n",
    "import os\n",
    "\n",
    "#####################\n",
    "# MAIN\n",
    "\n",
    "# init\n",
    "media = PhotoSorter()"
   ]
  },
  {
   "cell_type": "code",
   "execution_count": null,
   "metadata": {},
   "outputs": [],
   "source": [
    "# divide media files by filetype\n",
    "outdir = os.path.join(os.getcwd(),'sorted')\n",
    "media.gather(copy=False,outdir=outdir,separate=False)\n",
    "\n",
    "# delete short videos\n",
    "path_to_files = os.path.join(os.getcwd(),'sorted','Collection')\n",
    "media.purge_live_photos(path=path_to_files)"
   ]
  },
  {
   "cell_type": "code",
   "execution_count": 2,
   "metadata": {},
   "outputs": [
    {
     "name": "stderr",
     "output_type": "stream",
     "text": [
      "Gathering metadata: 100%|██████████| 18283/18283 [17:18<00:00, 17.61it/s] \n",
      "Deleting files: 100%|██████████| 701/701 [00:01<00:00, 562.22it/s]"
     ]
    },
    {
     "name": "stdout",
     "output_type": "stream",
     "text": [
      "Deleted 701 from a total of 18283 files\n"
     ]
    },
    {
     "name": "stderr",
     "output_type": "stream",
     "text": [
      "\n"
     ]
    }
   ],
   "source": [
    "# find possible duplicate photos\n",
    "path_to_photos='C:\\\\Users\\\\amanm\\\\Desktop\\\\test\\\\sorted\\\\Collection'\n",
    "media.drop_duplicates2(path=path_to_photos)"
   ]
  },
  {
   "cell_type": "code",
   "execution_count": 50,
   "metadata": {},
   "outputs": [
    {
     "data": {
      "text/plain": [
       "[Timestamp('2012-06-08 19:42:51'), Timestamp('2012-06-08 19:42:51'), NaT]"
      ]
     },
     "execution_count": 50,
     "metadata": {},
     "output_type": "execute_result"
    }
   ],
   "source": [
    "import PIL.Image\n",
    "import PIL.ExifTags\n",
    "from dateutil import parser\n",
    "import pandas\n",
    "import numpy \n",
    "\n",
    "file='C:\\\\Users\\\\amanm\\\\Desktop\\\\test\\\\sorted\\\\Collection\\\\IMG_1191.jpg'\n",
    "img = PIL.Image.open(file)\n",
    "exif = {PIL.ExifTags.TAGS[k]: v\n",
    "        for k, v in img._getexif().items()\n",
    "        if k in PIL.ExifTags.TAGS}\n",
    "\n",
    "d = exif['DateTimeOriginal']\n",
    "d.split(' ')\n",
    "\n",
    "date = d.split(' ')[0].split(':')\n",
    "time = d.split(' ')[1].split(':')\n",
    "\n",
    "t = datetime.datetime(int(date[0]),int(date[1]),int(date[2]),\n",
    "                      int(time[0]),int(time[1]),int(time[2]))\n",
    "\n",
    "a = [t,t,numpy.nan]\n",
    "[pandas.Timestamp(i) for i in a]"
   ]
  },
  {
   "cell_type": "code",
   "execution_count": 45,
   "metadata": {},
   "outputs": [
    {
     "data": {
      "text/plain": [
       "nan"
      ]
     },
     "execution_count": 45,
     "metadata": {},
     "output_type": "execute_result"
    }
   ],
   "source": [
    "import numpy\n",
    "numpy.nan"
   ]
  },
  {
   "cell_type": "code",
   "execution_count": null,
   "metadata": {},
   "outputs": [],
   "source": []
  }
 ],
 "metadata": {
  "kernelspec": {
   "display_name": "Python 3",
   "language": "python",
   "name": "python3"
  },
  "language_info": {
   "codemirror_mode": {
    "name": "ipython",
    "version": 3
   },
   "file_extension": ".py",
   "mimetype": "text/x-python",
   "name": "python",
   "nbconvert_exporter": "python",
   "pygments_lexer": "ipython3",
   "version": "3.7.6"
  }
 },
 "nbformat": 4,
 "nbformat_minor": 4
}
