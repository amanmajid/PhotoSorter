{
 "cells": [
  {
   "cell_type": "code",
   "execution_count": 1,
   "metadata": {},
   "outputs": [],
   "source": [
    "from src.PhotoSorter import PhotoSorter\n",
    "import os\n",
    "\n",
    "#####################\n",
    "# MAIN\n",
    "\n",
    "# init\n",
    "media = PhotoSorter()"
   ]
  },
  {
   "cell_type": "code",
   "execution_count": null,
   "metadata": {},
   "outputs": [],
   "source": [
    "# divide media files by filetype\n",
    "outdir = os.path.join(os.getcwd(),'sorted')\n",
    "media.gather(copy=False,outdir=outdir,separate=False)\n",
    "\n",
    "# delete short videos\n",
    "path_to_files = os.path.join(os.getcwd(),'sorted','Collection')\n",
    "media.purge_live_photos(path=path_to_files)"
   ]
  },
  {
   "cell_type": "code",
   "execution_count": 2,
   "metadata": {},
   "outputs": [
    {
     "ename": "AttributeError",
     "evalue": "'PhotoSorter' object has no attribute 'drop_duplicate_photos'",
     "output_type": "error",
     "traceback": [
      "\u001b[1;31m---------------------------------------------------------------------------\u001b[0m",
      "\u001b[1;31mAttributeError\u001b[0m                            Traceback (most recent call last)",
      "\u001b[1;32m<ipython-input-2-920c2e399837>\u001b[0m in \u001b[0;36m<module>\u001b[1;34m\u001b[0m\n\u001b[0;32m      1\u001b[0m \u001b[1;31m# find possible duplicate photos\u001b[0m\u001b[1;33m\u001b[0m\u001b[1;33m\u001b[0m\u001b[1;33m\u001b[0m\u001b[0m\n\u001b[0;32m      2\u001b[0m \u001b[0mpath_to_photos\u001b[0m\u001b[1;33m=\u001b[0m\u001b[1;34m'C:\\\\Users\\\\amanm\\\\Desktop\\\\test\\\\sorted\\\\Collection'\u001b[0m\u001b[1;33m\u001b[0m\u001b[1;33m\u001b[0m\u001b[0m\n\u001b[1;32m----> 3\u001b[1;33m \u001b[0mmedia\u001b[0m\u001b[1;33m.\u001b[0m\u001b[0mdrop_duplicate_photos\u001b[0m\u001b[1;33m(\u001b[0m\u001b[0mpath\u001b[0m\u001b[1;33m=\u001b[0m\u001b[0mpath_to_photos\u001b[0m\u001b[1;33m)\u001b[0m\u001b[1;33m\u001b[0m\u001b[1;33m\u001b[0m\u001b[0m\n\u001b[0m",
      "\u001b[1;31mAttributeError\u001b[0m: 'PhotoSorter' object has no attribute 'drop_duplicate_photos'"
     ]
    }
   ],
   "source": [
    "# find possible duplicate photos\n",
    "path_to_photos='C:\\\\Users\\\\amanm\\\\Desktop\\\\test\\\\sorted\\\\Collection'\n",
    "media.drop_duplicates(path=path_to_photos)"
   ]
  },
  {
   "cell_type": "code",
   "execution_count": null,
   "metadata": {},
   "outputs": [],
   "source": []
  },
  {
   "cell_type": "code",
   "execution_count": null,
   "metadata": {},
   "outputs": [],
   "source": [
    "# find possible duplicate videos\n",
    "# path_to_photos='C:\\\\Users\\\\amanm\\\\Desktop\\\\test\\\\sorted\\\\separated\\\\Videos'\n",
    "# d = media.remove_duplicates(path=path_to_photos)"
   ]
  },
  {
   "cell_type": "code",
   "execution_count": null,
   "metadata": {},
   "outputs": [],
   "source": [
    "path_to_photos='C:\\\\Users\\\\amanm\\\\Desktop\\\\test\\\\sorted\\\\separated\\\\Photos'\n",
    "media.organise(path=path_to_photos)"
   ]
  },
  {
   "cell_type": "code",
   "execution_count": null,
   "metadata": {},
   "outputs": [],
   "source": [
    "from moviepy.editor import VideoFileClip\n",
    "path_to_file = os.path.join(os.getcwd(),'VID_1866.mov')\n",
    "clip = VideoFileClip(path_to_file)\n",
    "\n",
    "clip."
   ]
  },
  {
   "cell_type": "code",
   "execution_count": null,
   "metadata": {},
   "outputs": [],
   "source": []
  }
 ],
 "metadata": {
  "kernelspec": {
   "display_name": "Python 3",
   "language": "python",
   "name": "python3"
  },
  "language_info": {
   "codemirror_mode": {
    "name": "ipython",
    "version": 3
   },
   "file_extension": ".py",
   "mimetype": "text/x-python",
   "name": "python",
   "nbconvert_exporter": "python",
   "pygments_lexer": "ipython3",
   "version": "3.7.6"
  }
 },
 "nbformat": 4,
 "nbformat_minor": 4
}
